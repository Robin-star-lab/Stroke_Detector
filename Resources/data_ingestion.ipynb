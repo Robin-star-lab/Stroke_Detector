{
 "cells": [
  {
   "cell_type": "code",
   "execution_count": 1,
   "metadata": {},
   "outputs": [],
   "source": [
    "import os"
   ]
  },
  {
   "cell_type": "code",
   "execution_count": 2,
   "metadata": {},
   "outputs": [
    {
     "data": {
      "text/plain": [
       "'c:\\\\Users\\\\Robin Aluma\\\\Desktop\\\\Stroke_Detection\\\\Resources'"
      ]
     },
     "execution_count": 2,
     "metadata": {},
     "output_type": "execute_result"
    }
   ],
   "source": [
    "pwd"
   ]
  },
  {
   "cell_type": "code",
   "execution_count": 3,
   "metadata": {},
   "outputs": [],
   "source": [
    "os.chdir('../')"
   ]
  },
  {
   "cell_type": "code",
   "execution_count": 4,
   "metadata": {},
   "outputs": [],
   "source": [
    "from dataclasses import dataclass\n",
    "from pathlib import Path\n",
    "import yaml\n",
    "\n",
    "\n",
    "@dataclass\n",
    "class DataIngestionConfig():\n",
    "    root_url:Path\n",
    "    source_url:str\n",
    "    local_data_path:Path\n",
    "    unzip_data:Path\n",
    "    test_data:Path\n",
    "    train_data:Path"
   ]
  },
  {
   "cell_type": "code",
   "execution_count": 5,
   "metadata": {},
   "outputs": [],
   "source": [
    "from src.constants import *\n",
    "from src.stroke_disease_detection.utils.common import read_yaml,create_directories"
   ]
  },
  {
   "cell_type": "code",
   "execution_count": 6,
   "metadata": {},
   "outputs": [],
   "source": [
    "import urllib.request as request\n",
    "import zipfile\n",
    "import pandas as pd\n",
    "from sklearn.model_selection import train_test_split\n",
    "from Exceptions import CustomException\n",
    "import sys\n",
    "from logger import my_logger"
   ]
  },
  {
   "cell_type": "code",
   "execution_count": 7,
   "metadata": {},
   "outputs": [],
   "source": [
    "class ConfigurationManager:\n",
    "    def __init__(self, \n",
    "                 config_file_path = CONFIG_FILE_PATH,\n",
    "                 params_file_path = PARAMS_FILE_PATH):\n",
    "        self.config = read_yaml(config_file_path)\n",
    "        self.params = read_yaml(params_file_path)\n",
    "        \n",
    "        create_directories([self.config.Artifacts_root])\n",
    "    \n",
    "    def data_ingestion_config(self)->DataIngestionConfig:\n",
    "        config = self.config.data_ingestion\n",
    "        \n",
    "        create_directories([config.root_url])\n",
    "        get_data_ingestion_config = DataIngestionConfig(\n",
    "            root_url = config.root_url,\n",
    "            source_url = config.source_url,\n",
    "            local_data_path = config.local_data_path,\n",
    "            unzip_data = config.unzip_data,\n",
    "            test_data = config.test_data,\n",
    "            train_data = config.train_data\n",
    "        )\n",
    "        \n",
    "        return get_data_ingestion_config"
   ]
  },
  {
   "cell_type": "code",
   "execution_count": 8,
   "metadata": {},
   "outputs": [],
   "source": [
    "class DataIngestion():\n",
    "    def __init__(self,config:DataIngestionConfig):\n",
    "        self.config = config\n",
    "    def load_data(self):\n",
    "        # This function loads data from github\n",
    "        local_data_path = self.config.local_data_path\n",
    "        if (not os.path.exists(local_data_path)):\n",
    "            file_name,headers = request.urlretrieve(\n",
    "                url=self.config.source_url,\n",
    "                filename=local_data_path\n",
    "            )\n",
    "            my_logger.info(f\"Data downloaded from: {self.config.source_url} into: {local_data_path}\")\n",
    "    def extract_data(self):\n",
    "        # This function extracts data from the downloaded zipfile\n",
    "        local_data_path = self.config.local_data_path\n",
    "        unzip_data = self.config.unzip_data\n",
    "        if unzip_data !=\"\":\n",
    "            os.makedirs(unzip_data,exist_ok=True)\n",
    "        else:\n",
    "            my_logger.info(\"Folder already exists\")\n",
    "        with zipfile.ZipFile(local_data_path) as zipref:\n",
    "            zipref.extractall(unzip_data)\n",
    "            \n",
    "        my_logger.info(f\"Extracted the zipfile: {local_data_path} into: {unzip_data}\")\n",
    "        \n",
    "    \n",
    "            \n",
    "            \n",
    "        \n",
    "            "
   ]
  },
  {
   "cell_type": "code",
   "execution_count": 9,
   "metadata": {},
   "outputs": [],
   "source": [
    "# Ingestion pipeline\n",
    "class DataIngestionPipeline():\n",
    "    def __init__(self):\n",
    "        pass\n",
    "    def main(self):\n",
    "        try:\n",
    "            config = ConfigurationManager()\n",
    "            data_ingestion_config = config.data_ingestion_config()\n",
    "            data_ingestion = DataIngestion(config=data_ingestion_config)\n",
    "            data_ingestion.load_data()\n",
    "            data_ingestion.extract_data()\n",
    "        except Exception as e:\n",
    "            raise CustomException(e,sys)"
   ]
  },
  {
   "cell_type": "code",
   "execution_count": 10,
   "metadata": {},
   "outputs": [
    {
     "name": "stdout",
     "output_type": "stream",
     "text": [
      "[ 2025-01-26 13:28:52,035:INFO:1458254983:Extracted the zipfile: artifacts/data_ingestion/data.zip into: artifacts/data_ingestion]\n"
     ]
    }
   ],
   "source": [
    "if __name__=='__main__':\n",
    "    obj = DataIngestionPipeline()\n",
    "    obj.main()"
   ]
  },
  {
   "cell_type": "code",
   "execution_count": null,
   "metadata": {},
   "outputs": [],
   "source": []
  }
 ],
 "metadata": {
  "kernelspec": {
   "display_name": "Python 3",
   "language": "python",
   "name": "python3"
  },
  "language_info": {
   "codemirror_mode": {
    "name": "ipython",
    "version": 3
   },
   "file_extension": ".py",
   "mimetype": "text/x-python",
   "name": "python",
   "nbconvert_exporter": "python",
   "pygments_lexer": "ipython3",
   "version": "3.12.4"
  }
 },
 "nbformat": 4,
 "nbformat_minor": 2
}
